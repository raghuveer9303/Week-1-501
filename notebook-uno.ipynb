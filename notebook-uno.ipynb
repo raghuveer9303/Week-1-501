{
 "cells": [
  {
   "cell_type": "code",
   "execution_count": 1,
   "metadata": {},
   "outputs": [
    {
     "name": "stdout",
     "output_type": "stream",
     "text": [
      "# conda environments:\n",
      "#\n",
      "base                     C:\\Users\\raghu\\miniconda3\n",
      "i501-week1-dev        *  C:\\Users\\raghu\\miniconda3\\envs\\i501-week1-dev\n",
      "raghu-dev                C:\\Users\\raghu\\miniconda3\\envs\\raghu-dev\n",
      "\n"
     ]
    }
   ],
   "source": [
    "!conda env list"
   ]
  }
 ],
 "metadata": {
  "kernelspec": {
   "display_name": "i501-week1-dev",
   "language": "python",
   "name": "i501-week1-dev"
  },
  "language_info": {
   "codemirror_mode": {
    "name": "ipython",
    "version": 3
   },
   "file_extension": ".py",
   "mimetype": "text/x-python",
   "name": "python",
   "nbconvert_exporter": "python",
   "pygments_lexer": "ipython3",
   "version": "3.11.9"
  }
 },
 "nbformat": 4,
 "nbformat_minor": 2
}
